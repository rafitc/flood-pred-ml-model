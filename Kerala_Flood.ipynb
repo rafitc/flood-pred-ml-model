{
  "cells": [
    {
      "cell_type": "code",
      "execution_count": 1,
      "metadata": {
        "colab": {
          "base_uri": "https://localhost:8080/"
        },
        "id": "dlexmvNQiKKO",
        "outputId": "9ed0be1c-0a41-4239-e98f-1890c6a7826a"
      },
      "outputs": [
        {
          "ename": "ModuleNotFoundError",
          "evalue": "No module named 'google'",
          "output_type": "error",
          "traceback": [
            "\u001b[0;31m---------------------------------------------------------------------------\u001b[0m",
            "\u001b[0;31mModuleNotFoundError\u001b[0m                       Traceback (most recent call last)",
            "\u001b[1;32m/Users/rafi/Desktop/rainPrediction/ml/Kerala_Flood.ipynb Cell 1'\u001b[0m in \u001b[0;36m<cell line: 1>\u001b[0;34m()\u001b[0m\n\u001b[0;32m----> <a href='vscode-notebook-cell:/Users/rafi/Desktop/rainPrediction/ml/Kerala_Flood.ipynb#ch0000000?line=0'>1</a>\u001b[0m \u001b[39mfrom\u001b[39;00m \u001b[39mgoogle\u001b[39;00m\u001b[39m.\u001b[39;00m\u001b[39mcolab\u001b[39;00m \u001b[39mimport\u001b[39;00m drive\n\u001b[1;32m      <a href='vscode-notebook-cell:/Users/rafi/Desktop/rainPrediction/ml/Kerala_Flood.ipynb#ch0000000?line=1'>2</a>\u001b[0m drive\u001b[39m.\u001b[39mmount(\u001b[39m'\u001b[39m\u001b[39m/content/gdrive\u001b[39m\u001b[39m'\u001b[39m)\n",
            "\u001b[0;31mModuleNotFoundError\u001b[0m: No module named 'google'"
          ]
        }
      ],
      "source": [
        "from google.colab import drive\n",
        "drive.mount('/content/gdrive')"
      ]
    },
    {
      "cell_type": "code",
      "execution_count": 45,
      "metadata": {
        "id": "MR_n_1qAgTFV"
      },
      "outputs": [],
      "source": [
        "import pandas as pd\n",
        "import numpy as np\n",
        "import tensorflow \n",
        "from sklearn.metrics import accuracy_score, precision_score, recall_score,confusion_matrix, fbeta_score, precision_recall_curve,average_precision_score\n",
        "from keras import backend as K\n",
        "from keras.models import Sequential, Model\n",
        "from keras.layers import Conv1D, MaxPool1D, Dense, Dropout, Flatten,BatchNormalization, Input, concatenate, Activation\n",
        "from tensorflow.keras.optimizers import Adam\n",
        "from keras.models import model_from_json\n",
        "import warnings\n",
        "\n",
        "warnings.filterwarnings('ignore')\n",
        "from inspect import signature\n",
        "import os\n",
        "os.environ['TF_CPP_MIN_LOG_LEVEL'] = '2'"
      ]
    },
    {
      "cell_type": "code",
      "execution_count": null,
      "metadata": {
        "id": "YM_XwYzlxrhN"
      },
      "outputs": [],
      "source": [
        "data = pd.read_csv('/content/gdrive/My Drive/file1.csv')"
      ]
    },
    {
      "cell_type": "code",
      "execution_count": null,
      "metadata": {
        "colab": {
          "base_uri": "https://localhost:8080/",
          "height": 206
        },
        "id": "yxFUzYbUz50I",
        "outputId": "f45e57b3-d54f-43ec-c581-9ccb54c4cf58"
      },
      "outputs": [
        {
          "data": {
            "text/html": [
              "\n",
              "  <div id=\"df-00d3e6e9-035f-4df3-a445-6b30caf5fdf6\">\n",
              "    <div class=\"colab-df-container\">\n",
              "      <div>\n",
              "<style scoped>\n",
              "    .dataframe tbody tr th:only-of-type {\n",
              "        vertical-align: middle;\n",
              "    }\n",
              "\n",
              "    .dataframe tbody tr th {\n",
              "        vertical-align: top;\n",
              "    }\n",
              "\n",
              "    .dataframe thead th {\n",
              "        text-align: right;\n",
              "    }\n",
              "</style>\n",
              "<table border=\"1\" class=\"dataframe\">\n",
              "  <thead>\n",
              "    <tr style=\"text-align: right;\">\n",
              "      <th></th>\n",
              "      <th>Unnamed: 0</th>\n",
              "      <th>col_0</th>\n",
              "      <th>col_1</th>\n",
              "      <th>col_2</th>\n",
              "      <th>col_3</th>\n",
              "      <th>col_4</th>\n",
              "      <th>col_5</th>\n",
              "      <th>col_6</th>\n",
              "      <th>col_7</th>\n",
              "      <th>col_8</th>\n",
              "      <th>col_9</th>\n",
              "      <th>target</th>\n",
              "    </tr>\n",
              "  </thead>\n",
              "  <tbody>\n",
              "    <tr>\n",
              "      <th>0</th>\n",
              "      <td>index_0</td>\n",
              "      <td>0.0</td>\n",
              "      <td>4.6</td>\n",
              "      <td>8.0</td>\n",
              "      <td>0.0</td>\n",
              "      <td>0.0</td>\n",
              "      <td>0.3</td>\n",
              "      <td>0.2</td>\n",
              "      <td>0.0</td>\n",
              "      <td>0.1</td>\n",
              "      <td>0.0</td>\n",
              "      <td>0</td>\n",
              "    </tr>\n",
              "    <tr>\n",
              "      <th>1</th>\n",
              "      <td>index_1</td>\n",
              "      <td>0.0</td>\n",
              "      <td>0.0</td>\n",
              "      <td>0.0</td>\n",
              "      <td>0.5</td>\n",
              "      <td>1.5</td>\n",
              "      <td>2.7</td>\n",
              "      <td>5.4</td>\n",
              "      <td>0.5</td>\n",
              "      <td>0.1</td>\n",
              "      <td>8.7</td>\n",
              "      <td>0</td>\n",
              "    </tr>\n",
              "    <tr>\n",
              "      <th>2</th>\n",
              "      <td>index_2</td>\n",
              "      <td>5.1</td>\n",
              "      <td>2.4</td>\n",
              "      <td>2.1</td>\n",
              "      <td>0.3</td>\n",
              "      <td>3.8</td>\n",
              "      <td>1.8</td>\n",
              "      <td>22.2</td>\n",
              "      <td>24.3</td>\n",
              "      <td>0.4</td>\n",
              "      <td>0.0</td>\n",
              "      <td>1</td>\n",
              "    </tr>\n",
              "    <tr>\n",
              "      <th>3</th>\n",
              "      <td>index_3</td>\n",
              "      <td>0.0</td>\n",
              "      <td>0.0</td>\n",
              "      <td>5.5</td>\n",
              "      <td>0.8</td>\n",
              "      <td>6.1</td>\n",
              "      <td>0.7</td>\n",
              "      <td>15.3</td>\n",
              "      <td>36.5</td>\n",
              "      <td>2.2</td>\n",
              "      <td>2.0</td>\n",
              "      <td>1</td>\n",
              "    </tr>\n",
              "    <tr>\n",
              "      <th>4</th>\n",
              "      <td>index_4</td>\n",
              "      <td>1.8</td>\n",
              "      <td>29.2</td>\n",
              "      <td>2.8</td>\n",
              "      <td>7.6</td>\n",
              "      <td>11.8</td>\n",
              "      <td>4.1</td>\n",
              "      <td>5.7</td>\n",
              "      <td>1.1</td>\n",
              "      <td>6.3</td>\n",
              "      <td>1.3</td>\n",
              "      <td>1</td>\n",
              "    </tr>\n",
              "  </tbody>\n",
              "</table>\n",
              "</div>\n",
              "      <button class=\"colab-df-convert\" onclick=\"convertToInteractive('df-00d3e6e9-035f-4df3-a445-6b30caf5fdf6')\"\n",
              "              title=\"Convert this dataframe to an interactive table.\"\n",
              "              style=\"display:none;\">\n",
              "        \n",
              "  <svg xmlns=\"http://www.w3.org/2000/svg\" height=\"24px\"viewBox=\"0 0 24 24\"\n",
              "       width=\"24px\">\n",
              "    <path d=\"M0 0h24v24H0V0z\" fill=\"none\"/>\n",
              "    <path d=\"M18.56 5.44l.94 2.06.94-2.06 2.06-.94-2.06-.94-.94-2.06-.94 2.06-2.06.94zm-11 1L8.5 8.5l.94-2.06 2.06-.94-2.06-.94L8.5 2.5l-.94 2.06-2.06.94zm10 10l.94 2.06.94-2.06 2.06-.94-2.06-.94-.94-2.06-.94 2.06-2.06.94z\"/><path d=\"M17.41 7.96l-1.37-1.37c-.4-.4-.92-.59-1.43-.59-.52 0-1.04.2-1.43.59L10.3 9.45l-7.72 7.72c-.78.78-.78 2.05 0 2.83L4 21.41c.39.39.9.59 1.41.59.51 0 1.02-.2 1.41-.59l7.78-7.78 2.81-2.81c.8-.78.8-2.07 0-2.86zM5.41 20L4 18.59l7.72-7.72 1.47 1.35L5.41 20z\"/>\n",
              "  </svg>\n",
              "      </button>\n",
              "      \n",
              "  <style>\n",
              "    .colab-df-container {\n",
              "      display:flex;\n",
              "      flex-wrap:wrap;\n",
              "      gap: 12px;\n",
              "    }\n",
              "\n",
              "    .colab-df-convert {\n",
              "      background-color: #E8F0FE;\n",
              "      border: none;\n",
              "      border-radius: 50%;\n",
              "      cursor: pointer;\n",
              "      display: none;\n",
              "      fill: #1967D2;\n",
              "      height: 32px;\n",
              "      padding: 0 0 0 0;\n",
              "      width: 32px;\n",
              "    }\n",
              "\n",
              "    .colab-df-convert:hover {\n",
              "      background-color: #E2EBFA;\n",
              "      box-shadow: 0px 1px 2px rgba(60, 64, 67, 0.3), 0px 1px 3px 1px rgba(60, 64, 67, 0.15);\n",
              "      fill: #174EA6;\n",
              "    }\n",
              "\n",
              "    [theme=dark] .colab-df-convert {\n",
              "      background-color: #3B4455;\n",
              "      fill: #D2E3FC;\n",
              "    }\n",
              "\n",
              "    [theme=dark] .colab-df-convert:hover {\n",
              "      background-color: #434B5C;\n",
              "      box-shadow: 0px 1px 3px 1px rgba(0, 0, 0, 0.15);\n",
              "      filter: drop-shadow(0px 1px 2px rgba(0, 0, 0, 0.3));\n",
              "      fill: #FFFFFF;\n",
              "    }\n",
              "  </style>\n",
              "\n",
              "      <script>\n",
              "        const buttonEl =\n",
              "          document.querySelector('#df-00d3e6e9-035f-4df3-a445-6b30caf5fdf6 button.colab-df-convert');\n",
              "        buttonEl.style.display =\n",
              "          google.colab.kernel.accessAllowed ? 'block' : 'none';\n",
              "\n",
              "        async function convertToInteractive(key) {\n",
              "          const element = document.querySelector('#df-00d3e6e9-035f-4df3-a445-6b30caf5fdf6');\n",
              "          const dataTable =\n",
              "            await google.colab.kernel.invokeFunction('convertToInteractive',\n",
              "                                                     [key], {});\n",
              "          if (!dataTable) return;\n",
              "\n",
              "          const docLinkHtml = 'Like what you see? Visit the ' +\n",
              "            '<a target=\"_blank\" href=https://colab.research.google.com/notebooks/data_table.ipynb>data table notebook</a>'\n",
              "            + ' to learn more about interactive tables.';\n",
              "          element.innerHTML = '';\n",
              "          dataTable['output_type'] = 'display_data';\n",
              "          await google.colab.output.renderOutput(dataTable, element);\n",
              "          const docLink = document.createElement('div');\n",
              "          docLink.innerHTML = docLinkHtml;\n",
              "          element.appendChild(docLink);\n",
              "        }\n",
              "      </script>\n",
              "    </div>\n",
              "  </div>\n",
              "  "
            ],
            "text/plain": [
              "  Unnamed: 0  col_0  col_1  col_2  col_3  col_4  col_5  col_6  col_7  col_8  \\\n",
              "0    index_0    0.0    4.6    8.0    0.0    0.0    0.3    0.2    0.0    0.1   \n",
              "1    index_1    0.0    0.0    0.0    0.5    1.5    2.7    5.4    0.5    0.1   \n",
              "2    index_2    5.1    2.4    2.1    0.3    3.8    1.8   22.2   24.3    0.4   \n",
              "3    index_3    0.0    0.0    5.5    0.8    6.1    0.7   15.3   36.5    2.2   \n",
              "4    index_4    1.8   29.2    2.8    7.6   11.8    4.1    5.7    1.1    6.3   \n",
              "\n",
              "   col_9  target  \n",
              "0    0.0       0  \n",
              "1    8.7       0  \n",
              "2    0.0       1  \n",
              "3    2.0       1  \n",
              "4    1.3       1  "
            ]
          },
          "execution_count": 47,
          "metadata": {},
          "output_type": "execute_result"
        }
      ],
      "source": [
        "data.head()"
      ]
    },
    {
      "cell_type": "code",
      "execution_count": 48,
      "metadata": {
        "colab": {
          "base_uri": "https://localhost:8080/"
        },
        "id": "tDH9ErKs0HrN",
        "outputId": "793c2a08-0004-4a05-c673-2326127d2d33"
      },
      "outputs": [
        {
          "data": {
            "text/plain": [
              "(907, 12)"
            ]
          },
          "execution_count": 48,
          "metadata": {},
          "output_type": "execute_result"
        }
      ],
      "source": [
        "data.shape"
      ]
    },
    {
      "cell_type": "code",
      "execution_count": 49,
      "metadata": {
        "id": "bouRHTr8z9A3"
      },
      "outputs": [],
      "source": [
        "train_y = data.target[:700]\n",
        "train_x = data[:700] "
      ]
    },
    {
      "cell_type": "code",
      "execution_count": 50,
      "metadata": {
        "id": "lZPs41As1wb_"
      },
      "outputs": [],
      "source": [
        "test_y = data.target[700:]\n",
        "test_x = data[700:] "
      ]
    },
    {
      "cell_type": "code",
      "execution_count": 51,
      "metadata": {
        "colab": {
          "base_uri": "https://localhost:8080/"
        },
        "id": "HfRAteS00sWW",
        "outputId": "1c052ce0-23c3-4545-aa13-805d971d03ce"
      },
      "outputs": [
        {
          "name": "stdout",
          "output_type": "stream",
          "text": [
            "(700,)\n"
          ]
        }
      ],
      "source": [
        "print(train_y.shape)\n",
        "Y_train = train_y"
      ]
    },
    {
      "cell_type": "code",
      "execution_count": 52,
      "metadata": {
        "colab": {
          "base_uri": "https://localhost:8080/"
        },
        "id": "LEYT15ag0yeY",
        "outputId": "746cf70d-b196-4858-ba35-873c4f93d218"
      },
      "outputs": [
        {
          "name": "stdout",
          "output_type": "stream",
          "text": [
            "(700, 10)\n"
          ]
        }
      ],
      "source": [
        "print(train_x.iloc[:,1:11].shape)\n",
        "X_train = train_x.iloc[:,1:11]"
      ]
    },
    {
      "cell_type": "code",
      "execution_count": 53,
      "metadata": {
        "colab": {
          "base_uri": "https://localhost:8080/"
        },
        "id": "gNF3bgEi1tOh",
        "outputId": "887772b8-9516-43d7-954e-f5279a1714e5"
      },
      "outputs": [
        {
          "name": "stdout",
          "output_type": "stream",
          "text": [
            "(207,)\n"
          ]
        }
      ],
      "source": [
        "print(test_y.shape)\n",
        "Y_test = test_y"
      ]
    },
    {
      "cell_type": "code",
      "execution_count": 54,
      "metadata": {
        "colab": {
          "base_uri": "https://localhost:8080/"
        },
        "id": "LIfGpfMW14yl",
        "outputId": "6cbb8b59-f5bf-487d-f711-df8f4cafa1c5"
      },
      "outputs": [
        {
          "name": "stdout",
          "output_type": "stream",
          "text": [
            "(207, 10)\n"
          ]
        }
      ],
      "source": [
        "print(test_x.iloc[:,1:11].shape)\n",
        "X_test = test_x.iloc[:,1:11]"
      ]
    },
    {
      "cell_type": "code",
      "execution_count": 55,
      "metadata": {
        "id": "XLcO9ybK4P-i"
      },
      "outputs": [],
      "source": [
        "x_train = np.stack([X_train, X_train], axis=2)\n",
        "x_test = np.stack([X_test, X_test], axis=2)"
      ]
    },
    {
      "cell_type": "code",
      "execution_count": 63,
      "metadata": {
        "id": "pQLBb3mN8qBU"
      },
      "outputs": [],
      "source": [
        "model = Sequential()\n",
        "model.add(Conv1D(filters=8, kernel_size=4, activation='linear', input_shape=x_train.shape[1:]))\n",
        "model.add(MaxPool1D(strides=2))\n",
        "model.add(BatchNormalization())\n",
        "model.add(Dense(20, activation='relu'))\n",
        "model.add(MaxPool1D(strides=2))\n",
        "model.add(Flatten())\n",
        "model.add(Dropout(0.25)) \n",
        "model.add(Dense(3, activation='relu'))\n",
        "model.add(Dense(1, activation='sigmoid'))"
      ]
    },
    {
      "cell_type": "code",
      "execution_count": 65,
      "metadata": {
        "colab": {
          "base_uri": "https://localhost:8080/"
        },
        "id": "jtgIMBHRh2EQ",
        "outputId": "3695622f-a003-429d-b2b4-1358cf10c1ed"
      },
      "outputs": [
        {
          "name": "stdout",
          "output_type": "stream",
          "text": [
            "Epoch 1/100\n",
            "50/50 - 1s - loss: 0.6838 - accuracy: 0.7443 - val_loss: 0.6618 - val_accuracy: 0.8696 - 1s/epoch - 22ms/step\n",
            "Epoch 2/100\n",
            "50/50 - 0s - loss: 0.6817 - accuracy: 0.7457 - val_loss: 0.6608 - val_accuracy: 0.8696 - 96ms/epoch - 2ms/step\n",
            "Epoch 3/100\n",
            "50/50 - 0s - loss: 0.6694 - accuracy: 0.7757 - val_loss: 0.6599 - val_accuracy: 0.8647 - 113ms/epoch - 2ms/step\n",
            "Epoch 4/100\n",
            "50/50 - 0s - loss: 0.6740 - accuracy: 0.7600 - val_loss: 0.6590 - val_accuracy: 0.8647 - 118ms/epoch - 2ms/step\n",
            "Epoch 5/100\n",
            "50/50 - 0s - loss: 0.6716 - accuracy: 0.7757 - val_loss: 0.6581 - val_accuracy: 0.8696 - 114ms/epoch - 2ms/step\n",
            "Epoch 6/100\n",
            "50/50 - 0s - loss: 0.6739 - accuracy: 0.7700 - val_loss: 0.6573 - val_accuracy: 0.8647 - 114ms/epoch - 2ms/step\n",
            "Epoch 7/100\n",
            "50/50 - 0s - loss: 0.6738 - accuracy: 0.7714 - val_loss: 0.6565 - val_accuracy: 0.8841 - 98ms/epoch - 2ms/step\n",
            "Epoch 8/100\n",
            "50/50 - 0s - loss: 0.6674 - accuracy: 0.7957 - val_loss: 0.6558 - val_accuracy: 0.8889 - 95ms/epoch - 2ms/step\n",
            "Epoch 9/100\n",
            "50/50 - 0s - loss: 0.6668 - accuracy: 0.7886 - val_loss: 0.6550 - val_accuracy: 0.8986 - 106ms/epoch - 2ms/step\n",
            "Epoch 10/100\n",
            "50/50 - 0s - loss: 0.6769 - accuracy: 0.7657 - val_loss: 0.6544 - val_accuracy: 0.9034 - 103ms/epoch - 2ms/step\n",
            "Epoch 11/100\n",
            "50/50 - 0s - loss: 0.6632 - accuracy: 0.8171 - val_loss: 0.6538 - val_accuracy: 0.9130 - 118ms/epoch - 2ms/step\n",
            "Epoch 12/100\n",
            "50/50 - 0s - loss: 0.6669 - accuracy: 0.7971 - val_loss: 0.6532 - val_accuracy: 0.9130 - 113ms/epoch - 2ms/step\n",
            "Epoch 13/100\n",
            "50/50 - 0s - loss: 0.6694 - accuracy: 0.7914 - val_loss: 0.6525 - val_accuracy: 0.9179 - 104ms/epoch - 2ms/step\n",
            "Epoch 14/100\n",
            "50/50 - 0s - loss: 0.6652 - accuracy: 0.8000 - val_loss: 0.6519 - val_accuracy: 0.9227 - 110ms/epoch - 2ms/step\n",
            "Epoch 15/100\n",
            "50/50 - 0s - loss: 0.6619 - accuracy: 0.8229 - val_loss: 0.6512 - val_accuracy: 0.9275 - 105ms/epoch - 2ms/step\n",
            "Epoch 16/100\n",
            "50/50 - 0s - loss: 0.6643 - accuracy: 0.7971 - val_loss: 0.6505 - val_accuracy: 0.9227 - 93ms/epoch - 2ms/step\n",
            "Epoch 17/100\n",
            "50/50 - 0s - loss: 0.6628 - accuracy: 0.8143 - val_loss: 0.6497 - val_accuracy: 0.9227 - 105ms/epoch - 2ms/step\n",
            "Epoch 18/100\n",
            "50/50 - 0s - loss: 0.6620 - accuracy: 0.8186 - val_loss: 0.6489 - val_accuracy: 0.9227 - 105ms/epoch - 2ms/step\n",
            "Epoch 19/100\n",
            "50/50 - 0s - loss: 0.6598 - accuracy: 0.8257 - val_loss: 0.6482 - val_accuracy: 0.9227 - 112ms/epoch - 2ms/step\n",
            "Epoch 20/100\n",
            "50/50 - 0s - loss: 0.6590 - accuracy: 0.8100 - val_loss: 0.6475 - val_accuracy: 0.9227 - 114ms/epoch - 2ms/step\n",
            "Epoch 21/100\n",
            "50/50 - 0s - loss: 0.6606 - accuracy: 0.8300 - val_loss: 0.6468 - val_accuracy: 0.9227 - 107ms/epoch - 2ms/step\n",
            "Epoch 22/100\n",
            "50/50 - 0s - loss: 0.6542 - accuracy: 0.8314 - val_loss: 0.6461 - val_accuracy: 0.9227 - 103ms/epoch - 2ms/step\n",
            "Epoch 23/100\n",
            "50/50 - 0s - loss: 0.6588 - accuracy: 0.8157 - val_loss: 0.6453 - val_accuracy: 0.9179 - 117ms/epoch - 2ms/step\n",
            "Epoch 24/100\n",
            "50/50 - 0s - loss: 0.6524 - accuracy: 0.8271 - val_loss: 0.6446 - val_accuracy: 0.9179 - 99ms/epoch - 2ms/step\n",
            "Epoch 25/100\n",
            "50/50 - 0s - loss: 0.6534 - accuracy: 0.8243 - val_loss: 0.6439 - val_accuracy: 0.9179 - 103ms/epoch - 2ms/step\n",
            "Epoch 26/100\n",
            "50/50 - 0s - loss: 0.6571 - accuracy: 0.8157 - val_loss: 0.6432 - val_accuracy: 0.9130 - 115ms/epoch - 2ms/step\n",
            "Epoch 27/100\n",
            "50/50 - 0s - loss: 0.6498 - accuracy: 0.8429 - val_loss: 0.6425 - val_accuracy: 0.9130 - 119ms/epoch - 2ms/step\n",
            "Epoch 28/100\n",
            "50/50 - 0s - loss: 0.6499 - accuracy: 0.8314 - val_loss: 0.6417 - val_accuracy: 0.9130 - 114ms/epoch - 2ms/step\n",
            "Epoch 29/100\n",
            "50/50 - 0s - loss: 0.6523 - accuracy: 0.8300 - val_loss: 0.6411 - val_accuracy: 0.9130 - 96ms/epoch - 2ms/step\n",
            "Epoch 30/100\n",
            "50/50 - 0s - loss: 0.6541 - accuracy: 0.8286 - val_loss: 0.6404 - val_accuracy: 0.9130 - 104ms/epoch - 2ms/step\n",
            "Epoch 31/100\n",
            "50/50 - 0s - loss: 0.6511 - accuracy: 0.8257 - val_loss: 0.6397 - val_accuracy: 0.9130 - 98ms/epoch - 2ms/step\n",
            "Epoch 32/100\n",
            "50/50 - 0s - loss: 0.6465 - accuracy: 0.8614 - val_loss: 0.6390 - val_accuracy: 0.9130 - 106ms/epoch - 2ms/step\n",
            "Epoch 33/100\n",
            "50/50 - 0s - loss: 0.6498 - accuracy: 0.8386 - val_loss: 0.6383 - val_accuracy: 0.9130 - 106ms/epoch - 2ms/step\n",
            "Epoch 34/100\n",
            "50/50 - 0s - loss: 0.6499 - accuracy: 0.8386 - val_loss: 0.6377 - val_accuracy: 0.9082 - 92ms/epoch - 2ms/step\n",
            "Epoch 35/100\n",
            "50/50 - 0s - loss: 0.6464 - accuracy: 0.8400 - val_loss: 0.6370 - val_accuracy: 0.9034 - 99ms/epoch - 2ms/step\n",
            "Epoch 36/100\n",
            "50/50 - 0s - loss: 0.6499 - accuracy: 0.8200 - val_loss: 0.6363 - val_accuracy: 0.9034 - 109ms/epoch - 2ms/step\n",
            "Epoch 37/100\n",
            "50/50 - 0s - loss: 0.6455 - accuracy: 0.8471 - val_loss: 0.6356 - val_accuracy: 0.9034 - 109ms/epoch - 2ms/step\n",
            "Epoch 38/100\n",
            "50/50 - 0s - loss: 0.6433 - accuracy: 0.8386 - val_loss: 0.6348 - val_accuracy: 0.9130 - 104ms/epoch - 2ms/step\n",
            "Epoch 39/100\n",
            "50/50 - 0s - loss: 0.6435 - accuracy: 0.8543 - val_loss: 0.6341 - val_accuracy: 0.9082 - 100ms/epoch - 2ms/step\n",
            "Epoch 40/100\n",
            "50/50 - 0s - loss: 0.6403 - accuracy: 0.8571 - val_loss: 0.6333 - val_accuracy: 0.9034 - 116ms/epoch - 2ms/step\n",
            "Epoch 41/100\n",
            "50/50 - 0s - loss: 0.6465 - accuracy: 0.8314 - val_loss: 0.6328 - val_accuracy: 0.9034 - 111ms/epoch - 2ms/step\n",
            "Epoch 42/100\n",
            "50/50 - 0s - loss: 0.6438 - accuracy: 0.8229 - val_loss: 0.6321 - val_accuracy: 0.9034 - 105ms/epoch - 2ms/step\n",
            "Epoch 43/100\n",
            "50/50 - 0s - loss: 0.6455 - accuracy: 0.8314 - val_loss: 0.6314 - val_accuracy: 0.9034 - 90ms/epoch - 2ms/step\n",
            "Epoch 44/100\n",
            "50/50 - 0s - loss: 0.6407 - accuracy: 0.8386 - val_loss: 0.6308 - val_accuracy: 0.8986 - 109ms/epoch - 2ms/step\n",
            "Epoch 45/100\n",
            "50/50 - 0s - loss: 0.6416 - accuracy: 0.8471 - val_loss: 0.6302 - val_accuracy: 0.8986 - 94ms/epoch - 2ms/step\n",
            "Epoch 46/100\n",
            "50/50 - 0s - loss: 0.6401 - accuracy: 0.8386 - val_loss: 0.6295 - val_accuracy: 0.9034 - 102ms/epoch - 2ms/step\n",
            "Epoch 47/100\n",
            "50/50 - 0s - loss: 0.6354 - accuracy: 0.8557 - val_loss: 0.6287 - val_accuracy: 0.9034 - 100ms/epoch - 2ms/step\n",
            "Epoch 48/100\n",
            "50/50 - 0s - loss: 0.6386 - accuracy: 0.8400 - val_loss: 0.6281 - val_accuracy: 0.9034 - 105ms/epoch - 2ms/step\n",
            "Epoch 49/100\n",
            "50/50 - 0s - loss: 0.6396 - accuracy: 0.8343 - val_loss: 0.6274 - val_accuracy: 0.9034 - 107ms/epoch - 2ms/step\n",
            "Epoch 50/100\n",
            "50/50 - 0s - loss: 0.6392 - accuracy: 0.8414 - val_loss: 0.6266 - val_accuracy: 0.9034 - 107ms/epoch - 2ms/step\n",
            "Epoch 51/100\n",
            "50/50 - 0s - loss: 0.6406 - accuracy: 0.8343 - val_loss: 0.6260 - val_accuracy: 0.9034 - 100ms/epoch - 2ms/step\n",
            "Epoch 52/100\n",
            "50/50 - 0s - loss: 0.6384 - accuracy: 0.8371 - val_loss: 0.6253 - val_accuracy: 0.9034 - 112ms/epoch - 2ms/step\n",
            "Epoch 53/100\n",
            "50/50 - 0s - loss: 0.6378 - accuracy: 0.8400 - val_loss: 0.6247 - val_accuracy: 0.9034 - 102ms/epoch - 2ms/step\n",
            "Epoch 54/100\n",
            "50/50 - 0s - loss: 0.6331 - accuracy: 0.8529 - val_loss: 0.6240 - val_accuracy: 0.9034 - 99ms/epoch - 2ms/step\n",
            "Epoch 55/100\n",
            "50/50 - 0s - loss: 0.6311 - accuracy: 0.8457 - val_loss: 0.6231 - val_accuracy: 0.9034 - 103ms/epoch - 2ms/step\n",
            "Epoch 56/100\n",
            "50/50 - 0s - loss: 0.6318 - accuracy: 0.8586 - val_loss: 0.6224 - val_accuracy: 0.9034 - 117ms/epoch - 2ms/step\n",
            "Epoch 57/100\n",
            "50/50 - 0s - loss: 0.6314 - accuracy: 0.8543 - val_loss: 0.6218 - val_accuracy: 0.9034 - 95ms/epoch - 2ms/step\n",
            "Epoch 58/100\n",
            "50/50 - 0s - loss: 0.6307 - accuracy: 0.8600 - val_loss: 0.6211 - val_accuracy: 0.9034 - 92ms/epoch - 2ms/step\n",
            "Epoch 59/100\n",
            "50/50 - 0s - loss: 0.6343 - accuracy: 0.8429 - val_loss: 0.6205 - val_accuracy: 0.9034 - 105ms/epoch - 2ms/step\n",
            "Epoch 60/100\n",
            "50/50 - 0s - loss: 0.6294 - accuracy: 0.8529 - val_loss: 0.6196 - val_accuracy: 0.9034 - 106ms/epoch - 2ms/step\n",
            "Epoch 61/100\n",
            "50/50 - 0s - loss: 0.6318 - accuracy: 0.8457 - val_loss: 0.6189 - val_accuracy: 0.9034 - 94ms/epoch - 2ms/step\n",
            "Epoch 62/100\n",
            "50/50 - 0s - loss: 0.6313 - accuracy: 0.8400 - val_loss: 0.6183 - val_accuracy: 0.9034 - 94ms/epoch - 2ms/step\n",
            "Epoch 63/100\n",
            "50/50 - 0s - loss: 0.6278 - accuracy: 0.8671 - val_loss: 0.6175 - val_accuracy: 0.9034 - 111ms/epoch - 2ms/step\n",
            "Epoch 64/100\n",
            "50/50 - 0s - loss: 0.6288 - accuracy: 0.8471 - val_loss: 0.6168 - val_accuracy: 0.9034 - 97ms/epoch - 2ms/step\n",
            "Epoch 65/100\n",
            "50/50 - 0s - loss: 0.6277 - accuracy: 0.8443 - val_loss: 0.6162 - val_accuracy: 0.9034 - 111ms/epoch - 2ms/step\n",
            "Epoch 66/100\n",
            "50/50 - 0s - loss: 0.6288 - accuracy: 0.8471 - val_loss: 0.6155 - val_accuracy: 0.9034 - 107ms/epoch - 2ms/step\n",
            "Epoch 67/100\n",
            "50/50 - 0s - loss: 0.6268 - accuracy: 0.8500 - val_loss: 0.6151 - val_accuracy: 0.9034 - 104ms/epoch - 2ms/step\n",
            "Epoch 68/100\n",
            "50/50 - 0s - loss: 0.6260 - accuracy: 0.8543 - val_loss: 0.6143 - val_accuracy: 0.9034 - 89ms/epoch - 2ms/step\n",
            "Epoch 69/100\n",
            "50/50 - 0s - loss: 0.6271 - accuracy: 0.8500 - val_loss: 0.6137 - val_accuracy: 0.9034 - 96ms/epoch - 2ms/step\n",
            "Epoch 70/100\n",
            "50/50 - 0s - loss: 0.6255 - accuracy: 0.8543 - val_loss: 0.6130 - val_accuracy: 0.9034 - 108ms/epoch - 2ms/step\n",
            "Epoch 71/100\n",
            "50/50 - 0s - loss: 0.6259 - accuracy: 0.8486 - val_loss: 0.6123 - val_accuracy: 0.9034 - 88ms/epoch - 2ms/step\n",
            "Epoch 72/100\n",
            "50/50 - 0s - loss: 0.6185 - accuracy: 0.8786 - val_loss: 0.6115 - val_accuracy: 0.9034 - 85ms/epoch - 2ms/step\n",
            "Epoch 73/100\n",
            "50/50 - 0s - loss: 0.6218 - accuracy: 0.8571 - val_loss: 0.6108 - val_accuracy: 0.9034 - 103ms/epoch - 2ms/step\n",
            "Epoch 74/100\n",
            "50/50 - 0s - loss: 0.6196 - accuracy: 0.8729 - val_loss: 0.6102 - val_accuracy: 0.9034 - 103ms/epoch - 2ms/step\n",
            "Epoch 75/100\n",
            "50/50 - 0s - loss: 0.6200 - accuracy: 0.8557 - val_loss: 0.6095 - val_accuracy: 0.9034 - 108ms/epoch - 2ms/step\n",
            "Epoch 76/100\n",
            "50/50 - 0s - loss: 0.6209 - accuracy: 0.8557 - val_loss: 0.6088 - val_accuracy: 0.9034 - 95ms/epoch - 2ms/step\n",
            "Epoch 77/100\n",
            "50/50 - 0s - loss: 0.6181 - accuracy: 0.8614 - val_loss: 0.6081 - val_accuracy: 0.9034 - 106ms/epoch - 2ms/step\n",
            "Epoch 78/100\n",
            "50/50 - 0s - loss: 0.6242 - accuracy: 0.8357 - val_loss: 0.6075 - val_accuracy: 0.9034 - 103ms/epoch - 2ms/step\n",
            "Epoch 79/100\n",
            "50/50 - 0s - loss: 0.6157 - accuracy: 0.8714 - val_loss: 0.6065 - val_accuracy: 0.9034 - 112ms/epoch - 2ms/step\n",
            "Epoch 80/100\n",
            "50/50 - 0s - loss: 0.6180 - accuracy: 0.8500 - val_loss: 0.6056 - val_accuracy: 0.9130 - 93ms/epoch - 2ms/step\n",
            "Epoch 81/100\n",
            "50/50 - 0s - loss: 0.6182 - accuracy: 0.8586 - val_loss: 0.6046 - val_accuracy: 0.9130 - 111ms/epoch - 2ms/step\n",
            "Epoch 82/100\n",
            "50/50 - 0s - loss: 0.6160 - accuracy: 0.8671 - val_loss: 0.6040 - val_accuracy: 0.9130 - 93ms/epoch - 2ms/step\n",
            "Epoch 83/100\n",
            "50/50 - 0s - loss: 0.6176 - accuracy: 0.8500 - val_loss: 0.6033 - val_accuracy: 0.9130 - 98ms/epoch - 2ms/step\n",
            "Epoch 84/100\n",
            "50/50 - 0s - loss: 0.6212 - accuracy: 0.8386 - val_loss: 0.6026 - val_accuracy: 0.9130 - 104ms/epoch - 2ms/step\n",
            "Epoch 85/100\n",
            "50/50 - 0s - loss: 0.6191 - accuracy: 0.8500 - val_loss: 0.6020 - val_accuracy: 0.9130 - 91ms/epoch - 2ms/step\n",
            "Epoch 86/100\n",
            "50/50 - 0s - loss: 0.6114 - accuracy: 0.8600 - val_loss: 0.6012 - val_accuracy: 0.9130 - 102ms/epoch - 2ms/step\n",
            "Epoch 87/100\n",
            "50/50 - 0s - loss: 0.6123 - accuracy: 0.8714 - val_loss: 0.6006 - val_accuracy: 0.9130 - 98ms/epoch - 2ms/step\n",
            "Epoch 88/100\n",
            "50/50 - 0s - loss: 0.6133 - accuracy: 0.8571 - val_loss: 0.5998 - val_accuracy: 0.9130 - 95ms/epoch - 2ms/step\n",
            "Epoch 89/100\n",
            "50/50 - 0s - loss: 0.6110 - accuracy: 0.8514 - val_loss: 0.5990 - val_accuracy: 0.9130 - 98ms/epoch - 2ms/step\n",
            "Epoch 90/100\n",
            "50/50 - 0s - loss: 0.6122 - accuracy: 0.8486 - val_loss: 0.5982 - val_accuracy: 0.9130 - 106ms/epoch - 2ms/step\n",
            "Epoch 91/100\n",
            "50/50 - 0s - loss: 0.6129 - accuracy: 0.8543 - val_loss: 0.5975 - val_accuracy: 0.9130 - 98ms/epoch - 2ms/step\n",
            "Epoch 92/100\n",
            "50/50 - 0s - loss: 0.6092 - accuracy: 0.8629 - val_loss: 0.5967 - val_accuracy: 0.9130 - 98ms/epoch - 2ms/step\n",
            "Epoch 93/100\n",
            "50/50 - 0s - loss: 0.6059 - accuracy: 0.8786 - val_loss: 0.5960 - val_accuracy: 0.9130 - 103ms/epoch - 2ms/step\n",
            "Epoch 94/100\n",
            "50/50 - 0s - loss: 0.6062 - accuracy: 0.8729 - val_loss: 0.5952 - val_accuracy: 0.9130 - 103ms/epoch - 2ms/step\n",
            "Epoch 95/100\n",
            "50/50 - 0s - loss: 0.6075 - accuracy: 0.8643 - val_loss: 0.5945 - val_accuracy: 0.9130 - 101ms/epoch - 2ms/step\n",
            "Epoch 96/100\n",
            "50/50 - 0s - loss: 0.6069 - accuracy: 0.8629 - val_loss: 0.5937 - val_accuracy: 0.9130 - 86ms/epoch - 2ms/step\n",
            "Epoch 97/100\n",
            "50/50 - 0s - loss: 0.6086 - accuracy: 0.8600 - val_loss: 0.5929 - val_accuracy: 0.9130 - 102ms/epoch - 2ms/step\n",
            "Epoch 98/100\n",
            "50/50 - 0s - loss: 0.6057 - accuracy: 0.8586 - val_loss: 0.5922 - val_accuracy: 0.9130 - 87ms/epoch - 2ms/step\n",
            "Epoch 99/100\n",
            "50/50 - 0s - loss: 0.6068 - accuracy: 0.8643 - val_loss: 0.5914 - val_accuracy: 0.9130 - 114ms/epoch - 2ms/step\n",
            "Epoch 100/100\n",
            "50/50 - 0s - loss: 0.6037 - accuracy: 0.8586 - val_loss: 0.5907 - val_accuracy: 0.9130 - 110ms/epoch - 2ms/step\n"
          ]
        }
      ],
      "source": [
        "model.compile(optimizer=Adam(4e-5), loss = 'binary_crossentropy', metrics=['accuracy'])\n",
        "hist = model.fit(x_train, Y_train,validation_data=(x_test, Y_test),verbose=2, epochs=100,steps_per_epoch=50)"
      ]
    },
    {
      "cell_type": "code",
      "execution_count": 66,
      "metadata": {
        "colab": {
          "base_uri": "https://localhost:8080/"
        },
        "id": "dBcXnv7Rj7_M",
        "outputId": "ab3964c7-2b4d-40f8-be3e-f4f00417202c"
      },
      "outputs": [
        {
          "name": "stdout",
          "output_type": "stream",
          "text": [
            "Saved model to disk\n"
          ]
        }
      ],
      "source": [
        "model_json = model.to_json()\n",
        "with open(\"/content/gdrive/My Drive/CNNmodel.json\", \"w\") as  json_file:\n",
        "  json_file.write(model_json)\n",
        "model.save_weights(\"/content/gdrive/My Drive/CNNmodel.h5\")\n",
        "print(\"Saved model to disk\")"
      ]
    },
    {
      "cell_type": "code",
      "execution_count": 67,
      "metadata": {
        "colab": {
          "base_uri": "https://localhost:8080/"
        },
        "id": "MKzT5hg5kdej",
        "outputId": "6e2ff22d-960f-4429-de1e-924b99a4aa8f"
      },
      "outputs": [
        {
          "name": "stdout",
          "output_type": "stream",
          "text": [
            "Loaded model from disk\n",
            "Model: \"sequential_10\"\n",
            "_________________________________________________________________\n",
            " Layer (type)                Output Shape              Param #   \n",
            "=================================================================\n",
            " conv1d_20 (Conv1D)          (None, 7, 8)              72        \n",
            "                                                                 \n",
            " max_pooling1d_14 (MaxPoolin  (None, 3, 8)             0         \n",
            " g1D)                                                            \n",
            "                                                                 \n",
            " batch_normalization_8 (Batc  (None, 3, 8)             32        \n",
            " hNormalization)                                                 \n",
            "                                                                 \n",
            " dense_9 (Dense)             (None, 3, 20)             180       \n",
            "                                                                 \n",
            " max_pooling1d_15 (MaxPoolin  (None, 1, 20)            0         \n",
            " g1D)                                                            \n",
            "                                                                 \n",
            " flatten_2 (Flatten)         (None, 20)                0         \n",
            "                                                                 \n",
            " dropout_4 (Dropout)         (None, 20)                0         \n",
            "                                                                 \n",
            " dense_10 (Dense)            (None, 3)                 63        \n",
            "                                                                 \n",
            " dense_11 (Dense)            (None, 1)                 4         \n",
            "                                                                 \n",
            "=================================================================\n",
            "Total params: 351\n",
            "Trainable params: 335\n",
            "Non-trainable params: 16\n",
            "_________________________________________________________________\n"
          ]
        }
      ],
      "source": [
        "json_file = open('/content/gdrive/My Drive/CNNmodel.json', 'r')\n",
        "loaded_model_json = json_file.read()\n",
        "json_file.close()\n",
        "loaded_model = model_from_json(loaded_model_json)\n",
        "loaded_model.load_weights(\"/content/gdrive/My Drive/CNNmodel.h5\") \n",
        "print(\"Loaded model from disk\")  \n",
        "loaded_model.summary()"
      ]
    },
    {
      "cell_type": "code",
      "execution_count": 68,
      "metadata": {
        "id": "LlBmbnc2lTvF"
      },
      "outputs": [],
      "source": [
        "y_pred = model.predict(x_test)[:,0]"
      ]
    },
    {
      "cell_type": "code",
      "execution_count": 85,
      "metadata": {
        "id": "kXEe0LhX5569"
      },
      "outputs": [],
      "source": [
        "pred = np.empty((1,len(y_pred)), dtype=object)\n",
        "pred = np.where(y_pred>=0.47, 1, 0)\n",
        "y_train = np.reshape(Y_train,len(Y_train))\n",
        "pred = np.reshape(pred,len(pred))"
      ]
    },
    {
      "cell_type": "code",
      "execution_count": 86,
      "metadata": {
        "colab": {
          "base_uri": "https://localhost:8080/"
        },
        "id": "2vekhxWL57Ww",
        "outputId": "ebd50e5c-35a5-4116-d3e5-07edfef0bfea"
      },
      "outputs": [
        {
          "data": {
            "text/plain": [
              "array([0, 0, 0, 0, 0, 0, 0, 0, 0, 0, 0, 0, 0, 0, 1, 0, 0, 0, 0, 0, 1, 0,\n",
              "       0, 0, 0, 0, 1, 0, 0, 0, 0, 0, 0, 0, 0, 0, 0, 0, 0, 0, 1, 0, 0, 0,\n",
              "       0, 1, 0, 0, 0, 0, 1, 0, 0, 1, 0, 0, 0, 0, 0, 1, 0, 0, 0, 0, 0, 0,\n",
              "       0, 0, 0, 0, 0, 0, 0, 1, 0, 0, 0, 0, 0, 0, 0, 1, 0, 0, 0, 0, 0, 0,\n",
              "       0, 0, 0, 0, 0, 0, 0, 1, 0, 0, 0, 0, 1, 0, 0, 0, 0, 0, 1, 0, 0, 0,\n",
              "       0, 0, 0, 0, 0, 1, 0, 0, 0, 0, 0, 0, 0, 0, 0, 0, 0, 0, 0, 0, 1, 1,\n",
              "       0, 0, 0, 0, 0, 0, 0, 0, 0, 0, 0, 0, 0, 0, 0, 1, 0, 0, 1, 1, 0, 0,\n",
              "       0, 1, 0, 0, 0, 0, 0, 0, 0, 0, 0, 0, 0, 0, 0, 0, 0, 0, 0, 0, 0, 1,\n",
              "       0, 0, 1, 0, 1, 1, 0, 0, 0, 0, 0, 1, 0, 0, 0, 0, 0, 0, 0, 0, 0, 0,\n",
              "       0, 0, 0, 0, 0, 0, 1, 0, 0])"
            ]
          },
          "execution_count": 86,
          "metadata": {},
          "output_type": "execute_result"
        }
      ],
      "source": [
        "pred"
      ]
    }
  ],
  "metadata": {
    "colab": {
      "name": "Kerala_Flood.ipynb",
      "provenance": []
    },
    "interpreter": {
      "hash": "31f2aee4e71d21fbe5cf8b01ff0e069b9275f58929596ceb00d14d90e3e16cd6"
    },
    "kernelspec": {
      "display_name": "Python 3.8.9 64-bit",
      "language": "python",
      "name": "python3"
    },
    "language_info": {
      "codemirror_mode": {
        "name": "ipython",
        "version": 3
      },
      "file_extension": ".py",
      "mimetype": "text/x-python",
      "name": "python",
      "nbconvert_exporter": "python",
      "pygments_lexer": "ipython3",
      "version": "3.8.9"
    }
  },
  "nbformat": 4,
  "nbformat_minor": 0
}
